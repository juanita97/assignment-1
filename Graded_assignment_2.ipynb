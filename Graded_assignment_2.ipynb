{
 "cells": [
  {
   "cell_type": "markdown",
   "metadata": {},
   "source": [
    "# Graded Assignment 2\n",
    "Mark Klik & Misja Mikkers\n",
    "\n",
    "Juanita Marin U250614\n",
    "\n",
    "# Packages\n",
    "\n",
    "\n",
    "\n",
    "# Assignment 1\n",
    "\n",
    "First load the `tidyverse` package:"
   ]
  },
  {
   "cell_type": "code",
   "execution_count": 92,
   "metadata": {},
   "outputs": [],
   "source": [
    "library(tidyverse)"
   ]
  },
  {
   "cell_type": "markdown",
   "metadata": {},
   "source": [
    "##  Assignment 1a\n",
    "\n",
    "Read the data file _graded_assignment_2.csv_ from disk:"
   ]
  },
  {
   "cell_type": "code",
   "execution_count": 86,
   "metadata": {},
   "outputs": [
    {
     "data": {
      "text/html": [
       "<table>\n",
       "<thead><tr><th scope=col>ID</th><th scope=col>Group</th><th scope=col>FKG</th><th scope=col>DKG</th><th scope=col>Gender</th><th scope=col>Elderly</th><th scope=col>Age</th></tr></thead>\n",
       "<tbody>\n",
       "\t<tr><td>1     </td><td>31    </td><td>0     </td><td>0     </td><td>female</td><td>65-   </td><td>50-54 </td></tr>\n",
       "\t<tr><td>2     </td><td>34    </td><td>0     </td><td>0     </td><td>female</td><td>65+   </td><td>65-69 </td></tr>\n",
       "\t<tr><td>3     </td><td> 3    </td><td>0     </td><td>1     </td><td>male  </td><td>65-   </td><td>10-14 </td></tr>\n",
       "\t<tr><td>4     </td><td>15    </td><td>1     </td><td>1     </td><td>male  </td><td>65+   </td><td>70-74 </td></tr>\n",
       "\t<tr><td>5     </td><td> 8    </td><td>1     </td><td>0     </td><td>male  </td><td>65-   </td><td>35-39 </td></tr>\n",
       "\t<tr><td>6     </td><td>26    </td><td>0     </td><td>1     </td><td>female</td><td>65-   </td><td>25-29 </td></tr>\n",
       "</tbody>\n",
       "</table>\n"
      ],
      "text/latex": [
       "\\begin{tabular}{r|lllllll}\n",
       " ID & Group & FKG & DKG & Gender & Elderly & Age\\\\\n",
       "\\hline\n",
       "\t 1      & 31     & 0      & 0      & female & 65-    & 50-54 \\\\\n",
       "\t 2      & 34     & 0      & 0      & female & 65+    & 65-69 \\\\\n",
       "\t 3      &  3     & 0      & 1      & male   & 65-    & 10-14 \\\\\n",
       "\t 4      & 15     & 1      & 1      & male   & 65+    & 70-74 \\\\\n",
       "\t 5      &  8     & 1      & 0      & male   & 65-    & 35-39 \\\\\n",
       "\t 6      & 26     & 0      & 1      & female & 65-    & 25-29 \\\\\n",
       "\\end{tabular}\n"
      ],
      "text/markdown": [
       "\n",
       "ID | Group | FKG | DKG | Gender | Elderly | Age | \n",
       "|---|---|---|---|---|---|\n",
       "| 1      | 31     | 0      | 0      | female | 65-    | 50-54  | \n",
       "| 2      | 34     | 0      | 0      | female | 65+    | 65-69  | \n",
       "| 3      |  3     | 0      | 1      | male   | 65-    | 10-14  | \n",
       "| 4      | 15     | 1      | 1      | male   | 65+    | 70-74  | \n",
       "| 5      |  8     | 1      | 0      | male   | 65-    | 35-39  | \n",
       "| 6      | 26     | 0      | 1      | female | 65-    | 25-29  | \n",
       "\n",
       "\n"
      ],
      "text/plain": [
       "  ID Group FKG DKG Gender Elderly Age  \n",
       "1 1  31    0   0   female 65-     50-54\n",
       "2 2  34    0   0   female 65+     65-69\n",
       "3 3   3    0   1   male   65-     10-14\n",
       "4 4  15    1   1   male   65+     70-74\n",
       "5 5   8    1   0   male   65-     35-39\n",
       "6 6  26    0   1   female 65-     25-29"
      ]
     },
     "metadata": {},
     "output_type": "display_data"
    }
   ],
   "source": [
    "data1 <- read.csv2(\"../Sourcedata/graded_assignment_2.csv\")\n",
    "head(data1)\n",
    "\n"
   ]
  },
  {
   "cell_type": "markdown",
   "metadata": {},
   "source": [
    "## Assignment 1b\n",
    "\n",
    "Add column \"Health_status\" with containing values _1_ (Healthy) and _0_ (Unhealthy).\n",
    "A person is Healthy, when `FKG` equals 0 and `DKG` equals 0.\n",
    "\n",
    "So\n",
    "\n",
    "| FKG | DKG | Health_status   |\n",
    "|-----|-----|--------------   |\n",
    "| 0   | 0   | 1               |\n",
    "| 1   | 0   | 0               |\n",
    "| 0   | 1   | 0               |\n",
    "| 1   | 1   | 0               |\n",
    "\n",
    "Hint: you can use `ifelse()`:"
   ]
  },
  {
   "cell_type": "code",
   "execution_count": 87,
   "metadata": {},
   "outputs": [
    {
     "data": {
      "text/html": [
       "<table>\n",
       "<thead><tr><th scope=col>ID</th><th scope=col>Group</th><th scope=col>FKG</th><th scope=col>DKG</th><th scope=col>Gender</th><th scope=col>Elderly</th><th scope=col>Age</th><th scope=col>Health_status</th></tr></thead>\n",
       "<tbody>\n",
       "\t<tr><td>1     </td><td>31    </td><td>0     </td><td>0     </td><td>female</td><td>65-   </td><td>50-54 </td><td>1     </td></tr>\n",
       "\t<tr><td>2     </td><td>34    </td><td>0     </td><td>0     </td><td>female</td><td>65+   </td><td>65-69 </td><td>1     </td></tr>\n",
       "\t<tr><td>3     </td><td> 3    </td><td>0     </td><td>1     </td><td>male  </td><td>65-   </td><td>10-14 </td><td>0     </td></tr>\n",
       "\t<tr><td>4     </td><td>15    </td><td>1     </td><td>1     </td><td>male  </td><td>65+   </td><td>70-74 </td><td>0     </td></tr>\n",
       "\t<tr><td>5     </td><td> 8    </td><td>1     </td><td>0     </td><td>male  </td><td>65-   </td><td>35-39 </td><td>0     </td></tr>\n",
       "\t<tr><td>6     </td><td>26    </td><td>0     </td><td>1     </td><td>female</td><td>65-   </td><td>25-29 </td><td>0     </td></tr>\n",
       "</tbody>\n",
       "</table>\n"
      ],
      "text/latex": [
       "\\begin{tabular}{r|llllllll}\n",
       " ID & Group & FKG & DKG & Gender & Elderly & Age & Health\\_status\\\\\n",
       "\\hline\n",
       "\t 1      & 31     & 0      & 0      & female & 65-    & 50-54  & 1     \\\\\n",
       "\t 2      & 34     & 0      & 0      & female & 65+    & 65-69  & 1     \\\\\n",
       "\t 3      &  3     & 0      & 1      & male   & 65-    & 10-14  & 0     \\\\\n",
       "\t 4      & 15     & 1      & 1      & male   & 65+    & 70-74  & 0     \\\\\n",
       "\t 5      &  8     & 1      & 0      & male   & 65-    & 35-39  & 0     \\\\\n",
       "\t 6      & 26     & 0      & 1      & female & 65-    & 25-29  & 0     \\\\\n",
       "\\end{tabular}\n"
      ],
      "text/markdown": [
       "\n",
       "ID | Group | FKG | DKG | Gender | Elderly | Age | Health_status | \n",
       "|---|---|---|---|---|---|\n",
       "| 1      | 31     | 0      | 0      | female | 65-    | 50-54  | 1      | \n",
       "| 2      | 34     | 0      | 0      | female | 65+    | 65-69  | 1      | \n",
       "| 3      |  3     | 0      | 1      | male   | 65-    | 10-14  | 0      | \n",
       "| 4      | 15     | 1      | 1      | male   | 65+    | 70-74  | 0      | \n",
       "| 5      |  8     | 1      | 0      | male   | 65-    | 35-39  | 0      | \n",
       "| 6      | 26     | 0      | 1      | female | 65-    | 25-29  | 0      | \n",
       "\n",
       "\n"
      ],
      "text/plain": [
       "  ID Group FKG DKG Gender Elderly Age   Health_status\n",
       "1 1  31    0   0   female 65-     50-54 1            \n",
       "2 2  34    0   0   female 65+     65-69 1            \n",
       "3 3   3    0   1   male   65-     10-14 0            \n",
       "4 4  15    1   1   male   65+     70-74 0            \n",
       "5 5   8    1   0   male   65-     35-39 0            \n",
       "6 6  26    0   1   female 65-     25-29 0            "
      ]
     },
     "metadata": {},
     "output_type": "display_data"
    }
   ],
   "source": [
    "data1$Health_status <- ifelse(data1$FKG == 0 & data1$DKG == 0, 1, 0) \n",
    "data2 <- mutate(data1)\n",
    "head(data2)"
   ]
  },
  {
   "cell_type": "markdown",
   "metadata": {},
   "source": [
    "In the next datacamp course you will learn more about the package `dplyr`. For now we just give you some code. You can run the following script.\n",
    "\n",
    "First, we want to make \"Health_status\" a factor instead of a character"
   ]
  },
  {
   "cell_type": "code",
   "execution_count": 88,
   "metadata": {},
   "outputs": [
    {
     "name": "stdout",
     "output_type": "stream",
     "text": [
      "'data.frame':\t10000 obs. of  8 variables:\n",
      " $ ID           : int  1 2 3 4 5 6 7 8 9 10 ...\n",
      " $ Group        : int  31 34 3 15 8 26 36 8 11 21 ...\n",
      " $ FKG          : int  0 0 0 1 1 0 0 1 0 1 ...\n",
      " $ DKG          : int  0 0 1 1 0 1 0 0 1 1 ...\n",
      " $ Gender       : Factor w/ 2 levels \"female\",\"male\": 1 1 2 2 2 1 1 2 2 1 ...\n",
      " $ Elderly      : Factor w/ 2 levels \"65+\",\"65-\": 2 1 2 1 2 2 1 2 2 2 ...\n",
      " $ Age          : Factor w/ 20 levels \"0-4\",\"10-14\",..: 11 14 2 15 7 5 16 7 11 1 ...\n",
      " $ Health_status: num  1 1 0 0 0 0 1 0 0 0 ...\n"
     ]
    }
   ],
   "source": [
    "data2 <- data2 %>%\n",
    "  mutate(Health_status = as.numeric(Health_status))\n",
    "str(data2)"
   ]
  },
  {
   "cell_type": "markdown",
   "metadata": {},
   "source": [
    "Then, we want to count the number of healthy and unhealthy males and females"
   ]
  },
  {
   "cell_type": "code",
   "execution_count": 89,
   "metadata": {},
   "outputs": [
    {
     "data": {
      "text/html": [
       "<table>\n",
       "<thead><tr><th scope=col>Gender</th><th scope=col>Health_status</th><th scope=col>Count_observations</th></tr></thead>\n",
       "<tbody>\n",
       "\t<tr><td>female</td><td>0     </td><td>3761  </td></tr>\n",
       "\t<tr><td>female</td><td>1     </td><td>1226  </td></tr>\n",
       "\t<tr><td>male  </td><td>0     </td><td>3764  </td></tr>\n",
       "\t<tr><td>male  </td><td>1     </td><td>1249  </td></tr>\n",
       "</tbody>\n",
       "</table>\n"
      ],
      "text/latex": [
       "\\begin{tabular}{r|lll}\n",
       " Gender & Health\\_status & Count\\_observations\\\\\n",
       "\\hline\n",
       "\t female & 0      & 3761  \\\\\n",
       "\t female & 1      & 1226  \\\\\n",
       "\t male   & 0      & 3764  \\\\\n",
       "\t male   & 1      & 1249  \\\\\n",
       "\\end{tabular}\n"
      ],
      "text/markdown": [
       "\n",
       "Gender | Health_status | Count_observations | \n",
       "|---|---|---|---|\n",
       "| female | 0      | 3761   | \n",
       "| female | 1      | 1226   | \n",
       "| male   | 0      | 3764   | \n",
       "| male   | 1      | 1249   | \n",
       "\n",
       "\n"
      ],
      "text/plain": [
       "  Gender Health_status Count_observations\n",
       "1 female 0             3761              \n",
       "2 female 1             1226              \n",
       "3 male   0             3764              \n",
       "4 male   1             1249              "
      ]
     },
     "metadata": {},
     "output_type": "display_data"
    }
   ],
   "source": [
    "data3 <- data2 %>%\n",
    "  group_by(Gender, Health_status) %>%\n",
    " summarise(Count_observations = n()) %>%\n",
    "  mutate(Health_status=as.factor(Health_status))\n",
    "\n",
    "data3"
   ]
  },
  {
   "cell_type": "markdown",
   "metadata": {},
   "source": [
    "## Assignment 2\n",
    "\n",
    "Recreate with the dataframe \"data3\" the following barchart ![](../Sourcedata/barchart.png)\n",
    "\n",
    "* Hint: see for changing the [legends and colors](http://www.cookbook-r.com/Graphs/Legends_(ggplot2)/)\n",
    "* Hint: the \"green\" color is in fact the color \"greenyellow\"\n",
    "* Hint: see for the [themes](http://ggplot2.tidyverse.org/reference/ggtheme.html): \n",
    "\n"
   ]
  },
  {
   "cell_type": "code",
   "execution_count": 90,
   "metadata": {},
   "outputs": [
    {
     "data": {},
     "metadata": {},
     "output_type": "display_data"
    },
    {
     "data": {
      "image/png": "[encoded data removed]",
      "text/plain": [
       "plot without title"
      ]
     },
     "metadata": {},
     "output_type": "display_data"
    }
   ],
   "source": [
    "ggplot(data3,aes(x = Gender,y = Count_observations,fill = Health_status)) + \n",
    "scale_fill_manual(name=\"Health Status\", labels=c(\"Unhealthy\", \"Healthy\"),values=c(\"red\", \"greenyellow\")) + \n",
    "geom_bar(stat = \"identity\",position = \"dodge\") + labs(y = 'Number') + \n",
    "theme(panel.grid.major = element_blank(), panel.grid.minor = element_blank(), \n",
    "      panel.background = element_blank(), \n",
    "axis.line = element_line(colour = \"black\"))"
   ]
  },
  {
   "cell_type": "markdown",
   "metadata": {},
   "source": [
    "End notebook"
   ]
  },
  {
   "cell_type": "code",
   "execution_count": null,
   "metadata": {},
   "outputs": [],
   "source": []
  },
  {
   "cell_type": "code",
   "execution_count": null,
   "metadata": {},
   "outputs": [],
   "source": []
  },
  {
   "cell_type": "code",
   "execution_count": null,
   "metadata": {},
   "outputs": [],
   "source": []
  }
 ],
 "metadata": {
  "anaconda-cloud": {},
  "kernelspec": {
   "display_name": "R",
   "language": "R",
   "name": "ir"
  },
  "language_info": {
   "codemirror_mode": "r",
   "file_extension": ".r",
   "mimetype": "text/x-r-source",
   "name": "R",
   "pygments_lexer": "r",
   "version": "3.3.3"
  }
 },
 "nbformat": 4,
 "nbformat_minor": 1
}
