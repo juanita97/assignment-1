{
 "cells": [
  {
   "cell_type": "markdown",
   "metadata": {},
   "source": [
    "Before you turn this problem in, make sure everything runs as expected. First, **restart the kernel** (in the menubar, select Kernel$\\rightarrow$Restart) and then **run all cells** (in the menubar, select Cell$\\rightarrow$Run All).\n",
    "\n",
    "Make sure you fill in any place that says `YOUR CODE HERE` or \"YOUR ANSWER HERE\", as well as your name and collaborators below:"
   ]
  },
  {
   "cell_type": "code",
   "execution_count": 281,
   "metadata": {},
   "outputs": [],
   "source": [
    "NAME = \"Juanita Marin Aristizabal, 2010946, u250614\"\n",
    "COLLABORATORS = \"Iryna Fedenko, 2004060, u464734\""
   ]
  },
  {
   "cell_type": "markdown",
   "metadata": {},
   "source": [
    "---"
   ]
  },
  {
   "cell_type": "markdown",
   "metadata": {},
   "source": [
    "Fill in the cell above to provide us with your name and student number, like\n",
    "\n",
    "NAME = \"Adam Smith, #student number#\"\n",
    "\n",
    "where you replace \"#student number#\" with your ... (very good!)\n",
    "\n",
    "and if you are doing this with someone else (not more than one other person):\n",
    "\n",
    "COLLABORATORS = \"Karl Marx, #student number#\""
   ]
  },
  {
   "cell_type": "markdown",
   "metadata": {
    "deletable": false,
    "editable": false,
    "nbgrader": {
     "checksum": "a7ae5c69becf064d614c6c38935eca51",
     "grade": false,
     "grade_id": "cell-895e9a7b94992ec9",
     "locked": true,
     "schema_version": 1,
     "solution": false
    }
   },
   "source": [
    "# exam June 7th, 2018\n"
   ]
  },
  {
   "cell_type": "markdown",
   "metadata": {
    "deletable": false,
    "editable": false,
    "nbgrader": {
     "checksum": "bc48d165f54aa364aa34509649fcdef5",
     "grade": false,
     "grade_id": "cell-540987818af25557",
     "locked": true,
     "schema_version": 1,
     "solution": false
    }
   },
   "source": [
    "\n",
    "In the first cell of the notebook, give us your name and student number in the way indicated above. If you do this notebook with --at max.-- one other student, give her/his name and student number as well under \"COLLABORATORS\".\n",
    "\n",
    "Fill in the notebook (see below for code cells and text cells that you need to fill in).\n",
    "\n",
    "If you look at the menus above (File, Edit, View etc.), there is one called \"Cell\". If you click on this, you can change the \"Cell Type\". Choose \"Code\" when you are typing python or R code. Choose \"Markdown\" when you are typing, well, markdown.\n",
    "\n",
    "When you finish the notebook, make sure that you **save it with the output of your code included**. \n",
    "\n",
    "Then put it on github, e.g. by dragging it onto github (see instructions below). \n",
    "\n",
    "Finally, add a link to your README file with the name of this exam: \"Exam June 7, 2018\".\n",
    "\n"
   ]
  },
  {
   "cell_type": "markdown",
   "metadata": {
    "deletable": false,
    "editable": false,
    "nbgrader": {
     "checksum": "6fad9bed312da1b0097e9c520b18e3fb",
     "grade": false,
     "grade_id": "cell-e1cf88cb799f1f43",
     "locked": true,
     "schema_version": 1,
     "solution": false
    }
   },
   "source": [
    "## price effects of mergers\n",
    "\n",
    "We consider a merger in this notebook. \n",
    "\n",
    "First we calculate the equilibrium with three firms, denoted by 1, 2 and 3. Then firms 2 and 3 merge so that we are left with 2 firms; denoted by 1 and 2.\n",
    "\n",
    "We calculate the effects of the merger on the equilibrium price.\n",
    "\n",
    "We start by importing the usual libraries."
   ]
  },
  {
   "cell_type": "code",
   "execution_count": 450,
   "metadata": {
    "deletable": false,
    "editable": false,
    "nbgrader": {
     "checksum": "7bd770ef54db47c3b6c8d0e31f6baef6",
     "grade": false,
     "grade_id": "cell-b895769bf40e183a",
     "locked": true,
     "schema_version": 1,
     "solution": false
    }
   },
   "outputs": [],
   "source": [
    "import matplotlib.pyplot as plt\n",
    "import pandas as pd\n",
    "import numpy as np\n",
    "from scipy import optimize\n",
    "%matplotlib inline"
   ]
  },
  {
   "cell_type": "markdown",
   "metadata": {},
   "source": [
    "The following code helps to calculate the equilibrium for the case with 3 firms. Note that you have seen similar code during the tutorials to calculate the equilibrium with 2 firms.\n",
    "\n",
    "We assume that before the merger each firm has constant marginal costs equal to 0.3. We assume a simple linear (inverse) demand curve of the form $p=1-Q$ where $p$ denotes price and $Q$ total output on the market. Total output equals the sum of each firm's output: $Q= q_1 + q_2+q_3$."
   ]
  },
  {
   "cell_type": "code",
   "execution_count": 451,
   "metadata": {
    "deletable": false,
    "editable": false,
    "nbgrader": {
     "checksum": "3e30f7ac9d9155ef089b8ca56a0c0436",
     "grade": false,
     "grade_id": "cell-f97a25efed556fd2",
     "locked": true,
     "schema_version": 1,
     "solution": false
    }
   },
   "outputs": [],
   "source": [
    "c0 = 0.3\n",
    "vector_c = [c0]*3\n",
    "\n",
    "def p(Q):\n",
    "    return 1 - Q\n",
    "\n",
    "def costs(q,c):\n",
    "    return c*q\n",
    "\n",
    "def profits(q,Q_other,c):\n",
    "    return p(q+Q_other)*q-costs(q,c)\n",
    "\n",
    "def reaction(Q_other,c):\n",
    "    q1 =  optimize.fminbound(lambda x: -profits(x,Q_other,c),0,1,full_output=1)\n",
    "    return q1[0]\n",
    "\n",
    "def fixed_point_three_firms(vector_q,vector_c):\n",
    "    return [vector_q[0]-reaction(vector_q[1]+vector_q[2],vector_c[0]),\n",
    "            vector_q[1]-reaction(vector_q[0]+vector_q[2],vector_c[1]),\n",
    "            vector_q[2]-reaction(vector_q[0]+vector_q[1],vector_c[2])]\n",
    "\n"
   ]
  },
  {
   "cell_type": "markdown",
   "metadata": {
    "deletable": false,
    "editable": false,
    "nbgrader": {
     "checksum": "f6ea3b2416aca7293a5450c45865f242",
     "grade": false,
     "grade_id": "cell-83284c4090d6de8c",
     "locked": true,
     "schema_version": 1,
     "solution": false
    }
   },
   "source": [
    "#### a) [0.5 points] Show that total equilibrium output equals  0.525. Derive the equilibrium price and Herfindahl index; denote these by `P0` and `H0` resp."
   ]
  },
  {
   "cell_type": "code",
   "execution_count": 452,
   "metadata": {
    "deletable": false,
    "nbgrader": {
     "checksum": "a06d73c35395adb00480733b458cb4a5",
     "grade": true,
     "grade_id": "cell-3b8ee172d9950128",
     "locked": false,
     "points": 0.5,
     "schema_version": 1,
     "solution": true
    },
    "scrolled": true
   },
   "outputs": [
    {
     "name": "stdout",
     "output_type": "stream",
     "text": [
      "[0.175 0.175 0.175]\n"
     ]
    }
   ],
   "source": [
    "initial_guess = [0,0,0]\n",
    "optimize.fsolve(lambda q: fixed_point_three_firms(q,[0,0,0]), initial_guess)\n",
    "\n",
    "q = optimize.fsolve(lambda q: fixed_point_three_firms(q,[0.3,0.3,0.3]), initial_guess) \n",
    "# I adjusted the code by adding the intial guess as in the week 3 assigment and i found the value for the output of each firm given that marginal cost are equal 0.3 for each firm.\n",
    "# the answer gives the output for each of the three firms, so if i add q1+12+q3 the outcome will be 1.175*3 = 0.525\n",
    "print(q)\n"
   ]
  },
  {
   "cell_type": "code",
   "execution_count": 453,
   "metadata": {},
   "outputs": [
    {
     "name": "stdout",
     "output_type": "stream",
     "text": [
      "0.4750000000000001\n"
     ]
    }
   ],
   "source": [
    "q_1 = 0.175\n",
    "q_2 = 0.175\n",
    "q_3 = 0.175\n",
    "Q0 = q_1 + q_2 + q_3\n",
    "P0 = 1 - Q0\n",
    "print(P0)\n",
    "# to find the equilibrium price we need to sum up the quantities of firm 1,2 and 3 and then from 1 substract the value obtained. "
   ]
  },
  {
   "cell_type": "code",
   "execution_count": 454,
   "metadata": {},
   "outputs": [
    {
     "name": "stdout",
     "output_type": "stream",
     "text": [
      "0.33333333333333337\n"
     ]
    }
   ],
   "source": [
    "H0 = (q_1/Q0)**2 + (q_2/Q0)**2 + (q_3/Q0)**2\n",
    "print(H0)"
   ]
  },
  {
   "cell_type": "markdown",
   "metadata": {
    "deletable": false,
    "editable": false,
    "nbgrader": {
     "checksum": "87b3b3e0e2d645c280e279312e489dc4",
     "grade": false,
     "grade_id": "cell-4b33762aa4a601fe",
     "locked": true,
     "schema_version": 1,
     "solution": false
    }
   },
   "source": [
    "#### b) [0.5 point] Define a function `fixed_point_two_firms` with the same structure as the function `fixed_point_three_firms` above, except that it derives the equilibrium output levels for a duopoly (two firms). Test this function by showing that each of the two firms produces 0.3333 in case both firms have zero costs."
   ]
  },
  {
   "cell_type": "code",
   "execution_count": 455,
   "metadata": {
    "deletable": false,
    "nbgrader": {
     "checksum": "024a1519155d681b57c85292df535a65",
     "grade": true,
     "grade_id": "cell-5ee215676b91f504",
     "locked": false,
     "points": 0.5,
     "schema_version": 1,
     "solution": true
    }
   },
   "outputs": [
    {
     "data": {
      "text/plain": [
       "array([0.33333333, 0.33333333])"
      ]
     },
     "execution_count": 455,
     "metadata": {},
     "output_type": "execute_result"
    }
   ],
   "source": [
    "def p(Q):\n",
    "    return 1 - Q\n",
    "\n",
    "def costs(q,c):\n",
    "    return c*q\n",
    "\n",
    "def profits(q,Q_other,c):\n",
    "    return p(q+Q_other)*q-costs(q,c)\n",
    "\n",
    "def reaction(Q_other,c):\n",
    "    q1 =  optimize.fminbound(lambda x: -profits(x,Q_other,c),0,1,full_output=1)\n",
    "    return q1[0]\n",
    "\n",
    "def fixed_point_two_firms(vector_q,vector_c):\n",
    "    return [vector_q[0]-reaction(vector_q[1],vector_c[0]),\n",
    "            vector_q[1]-reaction(vector_q[0],vector_c[1])]\n",
    "\n",
    "initial_guess = [0,0]\n",
    "\n",
    "optimize.fsolve(lambda q: fixed_point_two_firms(q,[0,0]), initial_guess)\n",
    "optimize.fsolve(lambda q: fixed_point_two_firms(q,[0,0]), initial_guess) \n",
    "# to adjust the code we had to delete the last line of the code containing the equilibrium quantity for firm 3, and eliminated the parts of the code which contain coding for the firm 3."
   ]
  },
  {
   "cell_type": "markdown",
   "metadata": {
    "deletable": false,
    "editable": false,
    "nbgrader": {
     "checksum": "5291fc8716e367572fde17ebe5844d2f",
     "grade": false,
     "grade_id": "cell-c2fada02efd7b197",
     "locked": true,
     "schema_version": 1,
     "solution": false
    }
   },
   "source": [
    "The Dutch competition authority, ACM, is asked to evaluate the effects of a merger between firms 2 and 3. Firms 2 and 3 claim that by merging they can reduce their constant marginal costs. But it is not clear by how much they will reduce their costs.\n",
    "\n",
    "The ACM assumes that the marginal cost level of the merged firm is uniformly distributed between 0 and the current marginal cost level `c0`. The merger will not affect the marginal cost level of firm 1 who does not merge. Firm 1's cost level remains `c0`.\n",
    "\n",
    "The next cell generates a vector of cost levels for the merged firm, denoted `c_after_merger`. Evaluate \"c_after_merger\" in a separate cell if you do not understand the command that defines it.\n",
    "\n",
    "Then it calculates the equilibrium output levels for (the non-merging) firm 1 and (the merged) firm 2.\n",
    "\n",
    "Note that you need to specify `initial_guess`.\n"
   ]
  },
  {
   "cell_type": "code",
   "execution_count": 456,
   "metadata": {
    "deletable": false,
    "editable": false,
    "nbgrader": {
     "checksum": "11299317cd53e31de9900700999b0324",
     "grade": false,
     "grade_id": "cell-ce91ab3e3225c57d",
     "locked": true,
     "schema_version": 1,
     "solution": false
    }
   },
   "outputs": [],
   "source": [
    "c_after_merger = np.random.uniform(0,c0,size = 100)\n",
    "\n",
    "q1_after_merger = [optimize.fsolve(lambda q: fixed_point_two_firms(q,[c0,c]), initial_guess)[0] for c in c_after_merger]\n",
    "q2_after_merger = [optimize.fsolve(lambda q: fixed_point_two_firms(q,[c0,c]), initial_guess)[1] for c in c_after_merger]\n",
    "\n",
    "\n"
   ]
  },
  {
   "cell_type": "code",
   "execution_count": 457,
   "metadata": {},
   "outputs": [],
   "source": [
    "initial_guess = [0, 0]"
   ]
  },
  {
   "cell_type": "markdown",
   "metadata": {
    "deletable": false,
    "editable": false,
    "nbgrader": {
     "checksum": "2b518306d6ff20ee42d0bc3085333095",
     "grade": false,
     "grade_id": "cell-0acc18b4f07a09f4",
     "locked": true,
     "schema_version": 1,
     "solution": false
    }
   },
   "source": [
    "#### c) [0.5 points] Create a dataframe called `df_after_merger` with three columns: `c_merged_firm`, `output_non_merging_firm`, `output_merged_firm` containing resp. the cost level of the merged firm, the output level of firm 1 and the output level of firm 2."
   ]
  },
  {
   "cell_type": "code",
   "execution_count": 458,
   "metadata": {
    "deletable": false,
    "nbgrader": {
     "checksum": "f4fc6a3bdef91fa3f656ccd3290c9f54",
     "grade": true,
     "grade_id": "cell-f3eacda828774f2d",
     "locked": false,
     "points": 0.5,
     "schema_version": 1,
     "solution": true
    }
   },
   "outputs": [
    {
     "data": {
      "text/html": [
       "<div>\n",
       "<style scoped>\n",
       "    .dataframe tbody tr th:only-of-type {\n",
       "        vertical-align: middle;\n",
       "    }\n",
       "\n",
       "    .dataframe tbody tr th {\n",
       "        vertical-align: top;\n",
       "    }\n",
       "\n",
       "    .dataframe thead th {\n",
       "        text-align: right;\n",
       "    }\n",
       "</style>\n",
       "<table border=\"1\" class=\"dataframe\">\n",
       "  <thead>\n",
       "    <tr style=\"text-align: right;\">\n",
       "      <th></th>\n",
       "      <th>c_merged_firm</th>\n",
       "      <th>output_non_merging_firm</th>\n",
       "      <th>output_merged_firm</th>\n",
       "    </tr>\n",
       "  </thead>\n",
       "  <tbody>\n",
       "    <tr>\n",
       "      <th>1</th>\n",
       "      <td>0.01</td>\n",
       "      <td>0.213751</td>\n",
       "      <td>0.272499</td>\n",
       "    </tr>\n",
       "    <tr>\n",
       "      <th>2</th>\n",
       "      <td>0.02</td>\n",
       "      <td>0.182332</td>\n",
       "      <td>0.335335</td>\n",
       "    </tr>\n",
       "    <tr>\n",
       "      <th>3</th>\n",
       "      <td>0.03</td>\n",
       "      <td>0.139296</td>\n",
       "      <td>0.421407</td>\n",
       "    </tr>\n",
       "    <tr>\n",
       "      <th>4</th>\n",
       "      <td>0.04</td>\n",
       "      <td>0.133406</td>\n",
       "      <td>0.433188</td>\n",
       "    </tr>\n",
       "    <tr>\n",
       "      <th>5</th>\n",
       "      <td>0.05</td>\n",
       "      <td>0.139585</td>\n",
       "      <td>0.420831</td>\n",
       "    </tr>\n",
       "    <tr>\n",
       "      <th>6</th>\n",
       "      <td>0.06</td>\n",
       "      <td>0.160581</td>\n",
       "      <td>0.378838</td>\n",
       "    </tr>\n",
       "    <tr>\n",
       "      <th>7</th>\n",
       "      <td>0.07</td>\n",
       "      <td>0.139459</td>\n",
       "      <td>0.421082</td>\n",
       "    </tr>\n",
       "    <tr>\n",
       "      <th>8</th>\n",
       "      <td>0.08</td>\n",
       "      <td>0.180924</td>\n",
       "      <td>0.338151</td>\n",
       "    </tr>\n",
       "    <tr>\n",
       "      <th>9</th>\n",
       "      <td>0.09</td>\n",
       "      <td>0.144885</td>\n",
       "      <td>0.410230</td>\n",
       "    </tr>\n",
       "    <tr>\n",
       "      <th>10</th>\n",
       "      <td>0.10</td>\n",
       "      <td>0.165195</td>\n",
       "      <td>0.369611</td>\n",
       "    </tr>\n",
       "  </tbody>\n",
       "</table>\n",
       "</div>"
      ],
      "text/plain": [
       "    c_merged_firm  output_non_merging_firm  output_merged_firm\n",
       "1            0.01                 0.213751            0.272499\n",
       "2            0.02                 0.182332            0.335335\n",
       "3            0.03                 0.139296            0.421407\n",
       "4            0.04                 0.133406            0.433188\n",
       "5            0.05                 0.139585            0.420831\n",
       "6            0.06                 0.160581            0.378838\n",
       "7            0.07                 0.139459            0.421082\n",
       "8            0.08                 0.180924            0.338151\n",
       "9            0.09                 0.144885            0.410230\n",
       "10           0.10                 0.165195            0.369611"
      ]
     },
     "execution_count": 458,
     "metadata": {},
     "output_type": "execute_result"
    }
   ],
   "source": [
    "initial_guess = [0,0]\n",
    "columns = ['c_merged_firm', 'output_non_merging_firm', 'output_merged_firm']\n",
    "df_after_merger = pd.DataFrame(columns=columns)\n",
    "\n",
    "c_after_merger = np.arange(0, 0.51, 0.01)\n",
    "\n",
    "for i in range(1,50):\n",
    "    df_after_merger.loc[i] = [c_after_merger[i], q1_after_merger[i], q2_after_merger[i]]\n",
    "\n",
    "\n",
    "\n",
    "df_after_merger.head(10)\n",
    "#we used the code from the assigment \"Week 3\" as a starting point and then adjusted the code for the new variabled coded in the exercise b). "
   ]
  },
  {
   "cell_type": "markdown",
   "metadata": {
    "deletable": false,
    "editable": false,
    "nbgrader": {
     "checksum": "a5bf4171960844da9c57375d83b6eedf",
     "grade": false,
     "grade_id": "cell-7ad058be42e19df8",
     "locked": true,
     "schema_version": 1,
     "solution": false
    }
   },
   "source": [
    "#### d) [0.5 points] Add three columns to the dataframe with resp. total equilibrium output on the market, `Q`, equilibrium price, `P` and the Herfindahl index, `H`."
   ]
  },
  {
   "cell_type": "code",
   "execution_count": 459,
   "metadata": {
    "deletable": false,
    "nbgrader": {
     "checksum": "ab6179623b39a6ae634abea45326e4ab",
     "grade": true,
     "grade_id": "cell-9c39b11747803ca1",
     "locked": false,
     "points": 0.5,
     "schema_version": 1,
     "solution": true
    }
   },
   "outputs": [
    {
     "data": {
      "text/html": [
       "<div>\n",
       "<style scoped>\n",
       "    .dataframe tbody tr th:only-of-type {\n",
       "        vertical-align: middle;\n",
       "    }\n",
       "\n",
       "    .dataframe tbody tr th {\n",
       "        vertical-align: top;\n",
       "    }\n",
       "\n",
       "    .dataframe thead th {\n",
       "        text-align: right;\n",
       "    }\n",
       "</style>\n",
       "<table border=\"1\" class=\"dataframe\">\n",
       "  <thead>\n",
       "    <tr style=\"text-align: right;\">\n",
       "      <th></th>\n",
       "      <th>c_merged_firm</th>\n",
       "      <th>output_non_merging_firm</th>\n",
       "      <th>output_merged_firm</th>\n",
       "      <th>Q</th>\n",
       "      <th>P</th>\n",
       "      <th>H</th>\n",
       "    </tr>\n",
       "  </thead>\n",
       "  <tbody>\n",
       "    <tr>\n",
       "      <th>0</th>\n",
       "      <td>0.00</td>\n",
       "      <td>0.182369</td>\n",
       "      <td>0.335262</td>\n",
       "      <td>0.517631</td>\n",
       "      <td>0.482369</td>\n",
       "      <td>0.198099</td>\n",
       "    </tr>\n",
       "    <tr>\n",
       "      <th>1</th>\n",
       "      <td>0.01</td>\n",
       "      <td>0.213751</td>\n",
       "      <td>0.272499</td>\n",
       "      <td>0.486249</td>\n",
       "      <td>0.513751</td>\n",
       "      <td>0.347064</td>\n",
       "    </tr>\n",
       "    <tr>\n",
       "      <th>2</th>\n",
       "      <td>0.02</td>\n",
       "      <td>0.182332</td>\n",
       "      <td>0.335335</td>\n",
       "      <td>0.517668</td>\n",
       "      <td>0.482332</td>\n",
       "      <td>0.197969</td>\n",
       "    </tr>\n",
       "    <tr>\n",
       "      <th>3</th>\n",
       "      <td>0.03</td>\n",
       "      <td>0.139296</td>\n",
       "      <td>0.421407</td>\n",
       "      <td>0.560704</td>\n",
       "      <td>0.439296</td>\n",
       "      <td>0.089034</td>\n",
       "    </tr>\n",
       "    <tr>\n",
       "      <th>4</th>\n",
       "      <td>0.04</td>\n",
       "      <td>0.133406</td>\n",
       "      <td>0.433188</td>\n",
       "      <td>0.566594</td>\n",
       "      <td>0.433406</td>\n",
       "      <td>0.079148</td>\n",
       "    </tr>\n",
       "    <tr>\n",
       "      <th>5</th>\n",
       "      <td>0.05</td>\n",
       "      <td>0.139585</td>\n",
       "      <td>0.420831</td>\n",
       "      <td>0.560415</td>\n",
       "      <td>0.439585</td>\n",
       "      <td>0.089542</td>\n",
       "    </tr>\n",
       "    <tr>\n",
       "      <th>6</th>\n",
       "      <td>0.06</td>\n",
       "      <td>0.160581</td>\n",
       "      <td>0.378838</td>\n",
       "      <td>0.539419</td>\n",
       "      <td>0.460581</td>\n",
       "      <td>0.133539</td>\n",
       "    </tr>\n",
       "    <tr>\n",
       "      <th>7</th>\n",
       "      <td>0.07</td>\n",
       "      <td>0.139459</td>\n",
       "      <td>0.421082</td>\n",
       "      <td>0.560541</td>\n",
       "      <td>0.439459</td>\n",
       "      <td>0.089320</td>\n",
       "    </tr>\n",
       "    <tr>\n",
       "      <th>8</th>\n",
       "      <td>0.08</td>\n",
       "      <td>0.180924</td>\n",
       "      <td>0.338151</td>\n",
       "      <td>0.519076</td>\n",
       "      <td>0.480924</td>\n",
       "      <td>0.193054</td>\n",
       "    </tr>\n",
       "    <tr>\n",
       "      <th>9</th>\n",
       "      <td>0.09</td>\n",
       "      <td>0.144885</td>\n",
       "      <td>0.410230</td>\n",
       "      <td>0.555115</td>\n",
       "      <td>0.444885</td>\n",
       "      <td>0.099305</td>\n",
       "    </tr>\n",
       "    <tr>\n",
       "      <th>10</th>\n",
       "      <td>0.10</td>\n",
       "      <td>0.165195</td>\n",
       "      <td>0.369611</td>\n",
       "      <td>0.534805</td>\n",
       "      <td>0.465195</td>\n",
       "      <td>0.145351</td>\n",
       "    </tr>\n",
       "    <tr>\n",
       "      <th>11</th>\n",
       "      <td>0.11</td>\n",
       "      <td>0.200145</td>\n",
       "      <td>0.299710</td>\n",
       "      <td>0.499855</td>\n",
       "      <td>0.500145</td>\n",
       "      <td>0.271812</td>\n",
       "    </tr>\n",
       "    <tr>\n",
       "      <th>12</th>\n",
       "      <td>0.12</td>\n",
       "      <td>0.149297</td>\n",
       "      <td>0.401407</td>\n",
       "      <td>0.550703</td>\n",
       "      <td>0.449297</td>\n",
       "      <td>0.108080</td>\n",
       "    </tr>\n",
       "    <tr>\n",
       "      <th>13</th>\n",
       "      <td>0.13</td>\n",
       "      <td>0.201581</td>\n",
       "      <td>0.296838</td>\n",
       "      <td>0.498419</td>\n",
       "      <td>0.501581</td>\n",
       "      <td>0.278864</td>\n",
       "    </tr>\n",
       "    <tr>\n",
       "      <th>14</th>\n",
       "      <td>0.14</td>\n",
       "      <td>0.147457</td>\n",
       "      <td>0.405086</td>\n",
       "      <td>0.552543</td>\n",
       "      <td>0.447457</td>\n",
       "      <td>0.104346</td>\n",
       "    </tr>\n",
       "    <tr>\n",
       "      <th>15</th>\n",
       "      <td>0.15</td>\n",
       "      <td>0.139287</td>\n",
       "      <td>0.421425</td>\n",
       "      <td>0.560713</td>\n",
       "      <td>0.439287</td>\n",
       "      <td>0.089018</td>\n",
       "    </tr>\n",
       "    <tr>\n",
       "      <th>16</th>\n",
       "      <td>0.16</td>\n",
       "      <td>0.215121</td>\n",
       "      <td>0.269758</td>\n",
       "      <td>0.484879</td>\n",
       "      <td>0.515121</td>\n",
       "      <td>0.355818</td>\n",
       "    </tr>\n",
       "    <tr>\n",
       "      <th>17</th>\n",
       "      <td>0.17</td>\n",
       "      <td>0.154106</td>\n",
       "      <td>0.391788</td>\n",
       "      <td>0.545894</td>\n",
       "      <td>0.454106</td>\n",
       "      <td>0.118372</td>\n",
       "    </tr>\n",
       "    <tr>\n",
       "      <th>18</th>\n",
       "      <td>0.18</td>\n",
       "      <td>0.173732</td>\n",
       "      <td>0.352536</td>\n",
       "      <td>0.526268</td>\n",
       "      <td>0.473732</td>\n",
       "      <td>0.169695</td>\n",
       "    </tr>\n",
       "    <tr>\n",
       "      <th>19</th>\n",
       "      <td>0.19</td>\n",
       "      <td>0.230608</td>\n",
       "      <td>0.238784</td>\n",
       "      <td>0.469392</td>\n",
       "      <td>0.530608</td>\n",
       "      <td>0.474541</td>\n",
       "    </tr>\n",
       "    <tr>\n",
       "      <th>20</th>\n",
       "      <td>0.20</td>\n",
       "      <td>0.176440</td>\n",
       "      <td>0.347120</td>\n",
       "      <td>0.523560</td>\n",
       "      <td>0.476440</td>\n",
       "      <td>0.178160</td>\n",
       "    </tr>\n",
       "    <tr>\n",
       "      <th>21</th>\n",
       "      <td>0.21</td>\n",
       "      <td>0.161941</td>\n",
       "      <td>0.376118</td>\n",
       "      <td>0.538059</td>\n",
       "      <td>0.461941</td>\n",
       "      <td>0.136929</td>\n",
       "    </tr>\n",
       "    <tr>\n",
       "      <th>22</th>\n",
       "      <td>0.22</td>\n",
       "      <td>0.215880</td>\n",
       "      <td>0.268240</td>\n",
       "      <td>0.484120</td>\n",
       "      <td>0.515880</td>\n",
       "      <td>0.360772</td>\n",
       "    </tr>\n",
       "    <tr>\n",
       "      <th>23</th>\n",
       "      <td>0.23</td>\n",
       "      <td>0.212957</td>\n",
       "      <td>0.274086</td>\n",
       "      <td>0.487043</td>\n",
       "      <td>0.512957</td>\n",
       "      <td>0.342104</td>\n",
       "    </tr>\n",
       "    <tr>\n",
       "      <th>24</th>\n",
       "      <td>0.24</td>\n",
       "      <td>0.203084</td>\n",
       "      <td>0.293832</td>\n",
       "      <td>0.496916</td>\n",
       "      <td>0.503084</td>\n",
       "      <td>0.286450</td>\n",
       "    </tr>\n",
       "    <tr>\n",
       "      <th>25</th>\n",
       "      <td>0.25</td>\n",
       "      <td>0.204467</td>\n",
       "      <td>0.291066</td>\n",
       "      <td>0.495533</td>\n",
       "      <td>0.504467</td>\n",
       "      <td>0.293625</td>\n",
       "    </tr>\n",
       "    <tr>\n",
       "      <th>26</th>\n",
       "      <td>0.26</td>\n",
       "      <td>0.180313</td>\n",
       "      <td>0.339374</td>\n",
       "      <td>0.519687</td>\n",
       "      <td>0.480313</td>\n",
       "      <td>0.190958</td>\n",
       "    </tr>\n",
       "    <tr>\n",
       "      <th>27</th>\n",
       "      <td>0.27</td>\n",
       "      <td>0.197710</td>\n",
       "      <td>0.304579</td>\n",
       "      <td>0.502290</td>\n",
       "      <td>0.497710</td>\n",
       "      <td>0.260276</td>\n",
       "    </tr>\n",
       "    <tr>\n",
       "      <th>28</th>\n",
       "      <td>0.28</td>\n",
       "      <td>0.199243</td>\n",
       "      <td>0.301514</td>\n",
       "      <td>0.500757</td>\n",
       "      <td>0.499243</td>\n",
       "      <td>0.267479</td>\n",
       "    </tr>\n",
       "    <tr>\n",
       "      <th>29</th>\n",
       "      <td>0.29</td>\n",
       "      <td>0.193869</td>\n",
       "      <td>0.312262</td>\n",
       "      <td>0.506131</td>\n",
       "      <td>0.493869</td>\n",
       "      <td>0.243086</td>\n",
       "    </tr>\n",
       "    <tr>\n",
       "      <th>30</th>\n",
       "      <td>0.30</td>\n",
       "      <td>0.176891</td>\n",
       "      <td>0.346218</td>\n",
       "      <td>0.523109</td>\n",
       "      <td>0.476891</td>\n",
       "      <td>0.179609</td>\n",
       "    </tr>\n",
       "    <tr>\n",
       "      <th>31</th>\n",
       "      <td>0.31</td>\n",
       "      <td>0.229712</td>\n",
       "      <td>0.240576</td>\n",
       "      <td>0.470288</td>\n",
       "      <td>0.529712</td>\n",
       "      <td>0.466516</td>\n",
       "    </tr>\n",
       "    <tr>\n",
       "      <th>32</th>\n",
       "      <td>0.32</td>\n",
       "      <td>0.161910</td>\n",
       "      <td>0.376179</td>\n",
       "      <td>0.538090</td>\n",
       "      <td>0.461910</td>\n",
       "      <td>0.136852</td>\n",
       "    </tr>\n",
       "    <tr>\n",
       "      <th>33</th>\n",
       "      <td>0.33</td>\n",
       "      <td>0.227048</td>\n",
       "      <td>0.245903</td>\n",
       "      <td>0.472952</td>\n",
       "      <td>0.527048</td>\n",
       "      <td>0.443597</td>\n",
       "    </tr>\n",
       "    <tr>\n",
       "      <th>34</th>\n",
       "      <td>0.34</td>\n",
       "      <td>0.164524</td>\n",
       "      <td>0.370951</td>\n",
       "      <td>0.535476</td>\n",
       "      <td>0.464524</td>\n",
       "      <td>0.143580</td>\n",
       "    </tr>\n",
       "    <tr>\n",
       "      <th>35</th>\n",
       "      <td>0.35</td>\n",
       "      <td>0.224933</td>\n",
       "      <td>0.250134</td>\n",
       "      <td>0.475067</td>\n",
       "      <td>0.524933</td>\n",
       "      <td>0.426343</td>\n",
       "    </tr>\n",
       "    <tr>\n",
       "      <th>36</th>\n",
       "      <td>0.36</td>\n",
       "      <td>0.156877</td>\n",
       "      <td>0.386245</td>\n",
       "      <td>0.543123</td>\n",
       "      <td>0.456877</td>\n",
       "      <td>0.124672</td>\n",
       "    </tr>\n",
       "    <tr>\n",
       "      <th>37</th>\n",
       "      <td>0.37</td>\n",
       "      <td>0.149550</td>\n",
       "      <td>0.400900</td>\n",
       "      <td>0.550450</td>\n",
       "      <td>0.449550</td>\n",
       "      <td>0.108603</td>\n",
       "    </tr>\n",
       "    <tr>\n",
       "      <th>38</th>\n",
       "      <td>0.38</td>\n",
       "      <td>0.187721</td>\n",
       "      <td>0.324558</td>\n",
       "      <td>0.512279</td>\n",
       "      <td>0.487721</td>\n",
       "      <td>0.217914</td>\n",
       "    </tr>\n",
       "    <tr>\n",
       "      <th>39</th>\n",
       "      <td>0.39</td>\n",
       "      <td>0.170044</td>\n",
       "      <td>0.359913</td>\n",
       "      <td>0.529956</td>\n",
       "      <td>0.470044</td>\n",
       "      <td>0.158757</td>\n",
       "    </tr>\n",
       "    <tr>\n",
       "      <th>40</th>\n",
       "      <td>0.40</td>\n",
       "      <td>0.196676</td>\n",
       "      <td>0.306647</td>\n",
       "      <td>0.503324</td>\n",
       "      <td>0.496676</td>\n",
       "      <td>0.255530</td>\n",
       "    </tr>\n",
       "    <tr>\n",
       "      <th>41</th>\n",
       "      <td>0.41</td>\n",
       "      <td>0.153666</td>\n",
       "      <td>0.392667</td>\n",
       "      <td>0.546334</td>\n",
       "      <td>0.453666</td>\n",
       "      <td>0.117399</td>\n",
       "    </tr>\n",
       "    <tr>\n",
       "      <th>42</th>\n",
       "      <td>0.42</td>\n",
       "      <td>0.151247</td>\n",
       "      <td>0.397506</td>\n",
       "      <td>0.548753</td>\n",
       "      <td>0.451247</td>\n",
       "      <td>0.112159</td>\n",
       "    </tr>\n",
       "    <tr>\n",
       "      <th>43</th>\n",
       "      <td>0.43</td>\n",
       "      <td>0.197131</td>\n",
       "      <td>0.305738</td>\n",
       "      <td>0.502869</td>\n",
       "      <td>0.497131</td>\n",
       "      <td>0.257607</td>\n",
       "    </tr>\n",
       "    <tr>\n",
       "      <th>44</th>\n",
       "      <td>0.44</td>\n",
       "      <td>0.141991</td>\n",
       "      <td>0.416018</td>\n",
       "      <td>0.558009</td>\n",
       "      <td>0.441991</td>\n",
       "      <td>0.093873</td>\n",
       "    </tr>\n",
       "    <tr>\n",
       "      <th>45</th>\n",
       "      <td>0.45</td>\n",
       "      <td>0.174040</td>\n",
       "      <td>0.351921</td>\n",
       "      <td>0.525960</td>\n",
       "      <td>0.474040</td>\n",
       "      <td>0.170637</td>\n",
       "    </tr>\n",
       "    <tr>\n",
       "      <th>46</th>\n",
       "      <td>0.46</td>\n",
       "      <td>0.149944</td>\n",
       "      <td>0.400112</td>\n",
       "      <td>0.550056</td>\n",
       "      <td>0.449944</td>\n",
       "      <td>0.109420</td>\n",
       "    </tr>\n",
       "    <tr>\n",
       "      <th>47</th>\n",
       "      <td>0.47</td>\n",
       "      <td>0.190144</td>\n",
       "      <td>0.319711</td>\n",
       "      <td>0.509856</td>\n",
       "      <td>0.490144</td>\n",
       "      <td>0.227511</td>\n",
       "    </tr>\n",
       "    <tr>\n",
       "      <th>48</th>\n",
       "      <td>0.48</td>\n",
       "      <td>0.166647</td>\n",
       "      <td>0.366706</td>\n",
       "      <td>0.533353</td>\n",
       "      <td>0.466647</td>\n",
       "      <td>0.149255</td>\n",
       "    </tr>\n",
       "    <tr>\n",
       "      <th>49</th>\n",
       "      <td>0.49</td>\n",
       "      <td>0.136521</td>\n",
       "      <td>0.426957</td>\n",
       "      <td>0.563479</td>\n",
       "      <td>0.436521</td>\n",
       "      <td>0.084262</td>\n",
       "    </tr>\n",
       "  </tbody>\n",
       "</table>\n",
       "</div>"
      ],
      "text/plain": [
       "    c_merged_firm  output_non_merging_firm  output_merged_firm         Q  \\\n",
       "0            0.00                 0.182369            0.335262  0.517631   \n",
       "1            0.01                 0.213751            0.272499  0.486249   \n",
       "2            0.02                 0.182332            0.335335  0.517668   \n",
       "3            0.03                 0.139296            0.421407  0.560704   \n",
       "4            0.04                 0.133406            0.433188  0.566594   \n",
       "5            0.05                 0.139585            0.420831  0.560415   \n",
       "6            0.06                 0.160581            0.378838  0.539419   \n",
       "7            0.07                 0.139459            0.421082  0.560541   \n",
       "8            0.08                 0.180924            0.338151  0.519076   \n",
       "9            0.09                 0.144885            0.410230  0.555115   \n",
       "10           0.10                 0.165195            0.369611  0.534805   \n",
       "11           0.11                 0.200145            0.299710  0.499855   \n",
       "12           0.12                 0.149297            0.401407  0.550703   \n",
       "13           0.13                 0.201581            0.296838  0.498419   \n",
       "14           0.14                 0.147457            0.405086  0.552543   \n",
       "15           0.15                 0.139287            0.421425  0.560713   \n",
       "16           0.16                 0.215121            0.269758  0.484879   \n",
       "17           0.17                 0.154106            0.391788  0.545894   \n",
       "18           0.18                 0.173732            0.352536  0.526268   \n",
       "19           0.19                 0.230608            0.238784  0.469392   \n",
       "20           0.20                 0.176440            0.347120  0.523560   \n",
       "21           0.21                 0.161941            0.376118  0.538059   \n",
       "22           0.22                 0.215880            0.268240  0.484120   \n",
       "23           0.23                 0.212957            0.274086  0.487043   \n",
       "24           0.24                 0.203084            0.293832  0.496916   \n",
       "25           0.25                 0.204467            0.291066  0.495533   \n",
       "26           0.26                 0.180313            0.339374  0.519687   \n",
       "27           0.27                 0.197710            0.304579  0.502290   \n",
       "28           0.28                 0.199243            0.301514  0.500757   \n",
       "29           0.29                 0.193869            0.312262  0.506131   \n",
       "30           0.30                 0.176891            0.346218  0.523109   \n",
       "31           0.31                 0.229712            0.240576  0.470288   \n",
       "32           0.32                 0.161910            0.376179  0.538090   \n",
       "33           0.33                 0.227048            0.245903  0.472952   \n",
       "34           0.34                 0.164524            0.370951  0.535476   \n",
       "35           0.35                 0.224933            0.250134  0.475067   \n",
       "36           0.36                 0.156877            0.386245  0.543123   \n",
       "37           0.37                 0.149550            0.400900  0.550450   \n",
       "38           0.38                 0.187721            0.324558  0.512279   \n",
       "39           0.39                 0.170044            0.359913  0.529956   \n",
       "40           0.40                 0.196676            0.306647  0.503324   \n",
       "41           0.41                 0.153666            0.392667  0.546334   \n",
       "42           0.42                 0.151247            0.397506  0.548753   \n",
       "43           0.43                 0.197131            0.305738  0.502869   \n",
       "44           0.44                 0.141991            0.416018  0.558009   \n",
       "45           0.45                 0.174040            0.351921  0.525960   \n",
       "46           0.46                 0.149944            0.400112  0.550056   \n",
       "47           0.47                 0.190144            0.319711  0.509856   \n",
       "48           0.48                 0.166647            0.366706  0.533353   \n",
       "49           0.49                 0.136521            0.426957  0.563479   \n",
       "\n",
       "           P         H  \n",
       "0   0.482369  0.198099  \n",
       "1   0.513751  0.347064  \n",
       "2   0.482332  0.197969  \n",
       "3   0.439296  0.089034  \n",
       "4   0.433406  0.079148  \n",
       "5   0.439585  0.089542  \n",
       "6   0.460581  0.133539  \n",
       "7   0.439459  0.089320  \n",
       "8   0.480924  0.193054  \n",
       "9   0.444885  0.099305  \n",
       "10  0.465195  0.145351  \n",
       "11  0.500145  0.271812  \n",
       "12  0.449297  0.108080  \n",
       "13  0.501581  0.278864  \n",
       "14  0.447457  0.104346  \n",
       "15  0.439287  0.089018  \n",
       "16  0.515121  0.355818  \n",
       "17  0.454106  0.118372  \n",
       "18  0.473732  0.169695  \n",
       "19  0.530608  0.474541  \n",
       "20  0.476440  0.178160  \n",
       "21  0.461941  0.136929  \n",
       "22  0.515880  0.360772  \n",
       "23  0.512957  0.342104  \n",
       "24  0.503084  0.286450  \n",
       "25  0.504467  0.293625  \n",
       "26  0.480313  0.190958  \n",
       "27  0.497710  0.260276  \n",
       "28  0.499243  0.267479  \n",
       "29  0.493869  0.243086  \n",
       "30  0.476891  0.179609  \n",
       "31  0.529712  0.466516  \n",
       "32  0.461910  0.136852  \n",
       "33  0.527048  0.443597  \n",
       "34  0.464524  0.143580  \n",
       "35  0.524933  0.426343  \n",
       "36  0.456877  0.124672  \n",
       "37  0.449550  0.108603  \n",
       "38  0.487721  0.217914  \n",
       "39  0.470044  0.158757  \n",
       "40  0.496676  0.255530  \n",
       "41  0.453666  0.117399  \n",
       "42  0.451247  0.112159  \n",
       "43  0.497131  0.257607  \n",
       "44  0.441991  0.093873  \n",
       "45  0.474040  0.170637  \n",
       "46  0.449944  0.109420  \n",
       "47  0.490144  0.227511  \n",
       "48  0.466647  0.149255  \n",
       "49  0.436521  0.084262  "
      ]
     },
     "execution_count": 459,
     "metadata": {},
     "output_type": "execute_result"
    }
   ],
   "source": [
    "initial_guess = [0,0,0]\n",
    "columns = ['c_merged_firm', 'output_non_merging_firm', 'output_merged_firm', 'Q', 'P', 'H']\n",
    "df_after_merger = pd.DataFrame(columns=columns)\n",
    "\n",
    "c_after_merger = np.arange(0, 0.51, 0.01)\n",
    "\n",
    "for i in range(0,50):\n",
    "    df_after_merger.loc[i] = [c_after_merger[i], q1_after_merger[i], q2_after_merger[i], (q1_after_merger[i]+q2_after_merger[i]), (1-(q1_after_merger[i]+q2_after_merger[i])), \n",
    "                             ((q1_after_merger[i]/(q1_after_merger[i]+q2_after_merger[i]))**2 + (q1_after_merger[i]/(q2_after_merger[i]+q2_after_merger[i]))**2 )]\n",
    "\n",
    "\n",
    "df_after_merger.head(50)\n",
    "# we copied the code from the part c and added additional code for the Q, P and H by using the formula from the part a (Q = q1 + q2, P = 1-Q, H = (qi/Q)**2)"
   ]
  },
  {
   "cell_type": "markdown",
   "metadata": {},
   "source": [
    "#### e) [0.5 points] Make a histogram of the equilibrium price `P` after the merger. Also indicate in the histogram the equilibrium price before the merger `P0`. Label the horizontal axis with $P$.\n",
    "\n",
    "[hint: you may want to use matplotlib's `hist`, `vlines` and `legend` to make this graph (e.g use google to find these functions); but feel free to use something else]"
   ]
  },
  {
   "cell_type": "code",
   "execution_count": 460,
   "metadata": {
    "deletable": false,
    "nbgrader": {
     "checksum": "b103cd98545261b20f937f4b9db67f68",
     "grade": true,
     "grade_id": "cell-f9193bf8e71f1a9a",
     "locked": false,
     "points": 0.5,
     "schema_version": 1,
     "solution": true
    }
   },
   "outputs": [
    {
     "data": {
      "image/png": "[encoded data removed]",
      "text/plain": [
       "<matplotlib.figure.Figure at 0x1115a8ba8>"
      ]
     },
     "metadata": {},
     "output_type": "display_data"
    }
   ],
   "source": [
    "df_after_merger.hist(column = 'P', color = 'yellow', label = \"P\")\n",
    "\n",
    "plt.axvline(p0, c = \"red\", linewidth=2.5, label = 'P0')\n",
    "plt.legend()\n",
    "plt.show()\n",
    "\n",
    "# we used the basic code for the histogram and added legend and the value of P0 by using plt.legend, and vline."
   ]
  },
  {
   "cell_type": "markdown",
   "metadata": {},
   "source": [
    "#### f) [0.5 points] Explain why sometimes the equilibrium price after the merger exceeds the equilibrium price before the merger and sometimes it is lower than the pre-merger price. [hint: there is a trade off between two effects, depending on which effect dominates, equilibrium price increases or decreases after the merger]"
   ]
  },
  {
   "cell_type": "markdown",
   "metadata": {
    "deletable": false,
    "nbgrader": {
     "checksum": "dd9fc721b7cf7f66587e93cbfb758034",
     "grade": true,
     "grade_id": "cell-7a1f367cd2854156",
     "locked": false,
     "points": 0.5,
     "schema_version": 1,
     "solution": true
    }
   },
   "source": [
    "There is a negative linear relationship between equilibrium price and quantity: It is clear that the price will decrease if the quantity will increase and vise versa. Also, it can be seen from the table that higher output of the non-merged firm will drag the rpices up. This could be ecplained by higher marginal costs of the production by one company compared to the marginal cost of the rpoduction be two companies. Therefore, if the non-merged firm dominates in the market, the prices will be higher, and if the merged firm domiantes, then prices are going to be lower. "
   ]
  },
  {
   "cell_type": "markdown",
   "metadata": {
    "deletable": false,
    "editable": false,
    "nbgrader": {
     "checksum": "e1e41dbf14c605bf91cdc78f70eada99",
     "grade": false,
     "grade_id": "cell-06ed6044f8938a45",
     "locked": true,
     "schema_version": 1,
     "solution": false
    }
   },
   "source": [
    "#### g) [0.5 points] Make a graph with the Herfindahl index on the horizontal axis and the equilibrium price on the vertical axis. This is straightforward for $(H,P)$ after the merger as both values are in the dataframe. Add in another color, the pre-merger combination `(H0,P0)` that we calculated above."
   ]
  },
  {
   "cell_type": "code",
   "execution_count": 461,
   "metadata": {
    "deletable": false,
    "nbgrader": {
     "checksum": "51cfaacbaf533e85d9794bc74712afd5",
     "grade": true,
     "grade_id": "cell-d647464d04870b73",
     "locked": false,
     "points": 0.5,
     "schema_version": 1,
     "solution": true
    }
   },
   "outputs": [
    {
     "data": {
      "image/png": "[encoded data removed]",
      "text/plain": [
       "<matplotlib.figure.Figure at 0x110f19160>"
      ]
     },
     "metadata": {},
     "output_type": "display_data"
    }
   ],
   "source": [
    "plt.figure(1)\n",
    "plt.title(\"Index VS Price\")\n",
    "plt.plot(df_after_merger.H,df_after_merger.P,color = \"blue\",linewidth = 0.5)\n",
    "plt.plot(H0, P0, \"ro\")\n",
    "\n",
    "plt.show()\n",
    "# we used the function plt.plot to create the graph. "
   ]
  },
  {
   "cell_type": "markdown",
   "metadata": {
    "deletable": false,
    "editable": false,
    "nbgrader": {
     "checksum": "11b6609131b1c25886f2c6cafe0f7a59",
     "grade": false,
     "grade_id": "cell-5c5e5776a7c135a2",
     "locked": true,
     "schema_version": 1,
     "solution": false
    }
   },
   "source": [
    "#### h) [0.5 points] Use the graph under g) to discuss the relation between the Herfindahl index and the equilibrium price. To illustrate, some people think that lower values of the Herfindahl index are associated with more competitive outcome. Would you agree with this?"
   ]
  },
  {
   "cell_type": "markdown",
   "metadata": {
    "collapsed": true,
    "deletable": false,
    "nbgrader": {
     "checksum": "3d396887dde3b00420c623b9f4ea8ed2",
     "grade": true,
     "grade_id": "cell-cbd89d483b23a953",
     "locked": false,
     "points": 0.5,
     "schema_version": 1,
     "solution": true
    }
   },
   "source": [
    "Generally, we can see that the higher the price, the higher the Herfindahl index. Theoretically it makes sense, since we said earlier that quantity is negatively related to the price, and in the equation of the Herfindahl index quantity aperas as denominator. higher prices means higher quantity, so the value of qi/Q is higher. "
   ]
  },
  {
   "cell_type": "markdown",
   "metadata": {},
   "source": [
    "## Github\n",
    "\n",
    "After you have finished, we need to upload this notebook on github. Make sure that you upload the file on the github page of each collaborator."
   ]
  },
  {
   "cell_type": "markdown",
   "metadata": {},
   "source": [
    "Instructions on how to upload this on github can be found [on this page](http://janboone.github.io/programming-for-economists/github.html). This page has two screencasts: one shows how to drag the notebook onto your github page, the other shows how you can use the command line to upload your notebook.\n"
   ]
  },
  {
   "cell_type": "markdown",
   "metadata": {},
   "source": [
    "Remember to update the README file in your repository to include a link to this notebook on github.\n",
    "\n",
    "\n",
    "The links that you should post start with “github.com/” and are NOT of the form “http://localhost”. Make sure you test your links after uploading."
   ]
  },
  {
   "cell_type": "code",
   "execution_count": null,
   "metadata": {},
   "outputs": [],
   "source": []
  }
 ],
 "metadata": {
  "anaconda-cloud": {},
  "kernelspec": {
   "display_name": "Python 3",
   "language": "python",
   "name": "python3"
  },
  "language_info": {
   "codemirror_mode": {
    "name": "ipython",
    "version": 3
   },
   "file_extension": ".py",
   "mimetype": "text/x-python",
   "name": "python",
   "nbconvert_exporter": "python",
   "pygments_lexer": "ipython3",
   "version": "3.6.4"
  }
 },
 "nbformat": 4,
 "nbformat_minor": 1
}
