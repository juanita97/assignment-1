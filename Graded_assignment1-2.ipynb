{
 "cells": [
  {
   "cell_type": "markdown",
   "metadata": {},
   "source": [
    "# Graded assignment 1\n",
    "\n",
    "Mark Klik & Misja Mikkers\n",
    "\n",
    "Juanita Marin u250614\n",
    "\n",
    "\n",
    "# Packages\n",
    "\n",
    "We need the package `tidyverse`"
   ]
  },
  {
   "cell_type": "code",
   "execution_count": 72,
   "metadata": {},
   "outputs": [],
   "source": [
    "library(tidyverse) "
   ]
  },
  {
   "cell_type": "markdown",
   "metadata": {},
   "source": [
    "# Assignment 1\n",
    "\n",
    "First, we generate some random data:"
   ]
  },
  {
   "cell_type": "code",
   "execution_count": 73,
   "metadata": {},
   "outputs": [
    {
     "data": {
      "text/html": [
       "<table>\n",
       "<thead><tr><th scope=col>V1</th><th scope=col>V2</th><th scope=col>V3</th><th scope=col>V4</th><th scope=col>V5</th><th scope=col>V6</th><th scope=col>V7</th><th scope=col>V8</th><th scope=col>V9</th><th scope=col>V10</th><th scope=col>V11</th><th scope=col>V12</th><th scope=col>V13</th><th scope=col>V14</th><th scope=col>V15</th><th scope=col>V16</th><th scope=col>V17</th><th scope=col>V18</th><th scope=col>V19</th><th scope=col>V20</th></tr></thead>\n",
       "<tbody>\n",
       "\t<tr><td>0.8281725  </td><td>0.9908882  </td><td>0.25234963 </td><td>0.7501010  </td><td>0.7577850  </td><td>0.9257657  </td><td>0.1094230  </td><td>0.9866000  </td><td>0.31304743 </td><td>0.1229996  </td><td>0.32831888 </td><td>0.6859215  </td><td>0.3925502  </td><td>0.47296299 </td><td>0.6134780  </td><td>0.2398855  </td><td>0.1301922  </td><td>0.176041719</td><td>0.7262256  </td><td>0.1794496  </td></tr>\n",
       "\t<tr><td>0.6554379  </td><td>0.6502601  </td><td>0.04260713 </td><td>0.9330487  </td><td>0.7506476  </td><td>0.2390588  </td><td>0.1474123  </td><td>0.1469469  </td><td>0.03453798 </td><td>0.5179528  </td><td>0.05019006 </td><td>0.2700197  </td><td>0.5642389  </td><td>0.08337442 </td><td>0.6081188  </td><td>0.5881740  </td><td>0.1895514  </td><td>0.005803361</td><td>0.4767738  </td><td>0.8708143  </td></tr>\n",
       "</tbody>\n",
       "</table>\n"
      ],
      "text/latex": [
       "\\begin{tabular}{r|llllllllllllllllllll}\n",
       " V1 & V2 & V3 & V4 & V5 & V6 & V7 & V8 & V9 & V10 & V11 & V12 & V13 & V14 & V15 & V16 & V17 & V18 & V19 & V20\\\\\n",
       "\\hline\n",
       "\t 0.8281725   & 0.9908882   & 0.25234963  & 0.7501010   & 0.7577850   & 0.9257657   & 0.1094230   & 0.9866000   & 0.31304743  & 0.1229996   & 0.32831888  & 0.6859215   & 0.3925502   & 0.47296299  & 0.6134780   & 0.2398855   & 0.1301922   & 0.176041719 & 0.7262256   & 0.1794496  \\\\\n",
       "\t 0.6554379   & 0.6502601   & 0.04260713  & 0.9330487   & 0.7506476   & 0.2390588   & 0.1474123   & 0.1469469   & 0.03453798  & 0.5179528   & 0.05019006  & 0.2700197   & 0.5642389   & 0.08337442  & 0.6081188   & 0.5881740   & 0.1895514   & 0.005803361 & 0.4767738   & 0.8708143  \\\\\n",
       "\\end{tabular}\n"
      ],
      "text/markdown": [
       "\n",
       "V1 | V2 | V3 | V4 | V5 | V6 | V7 | V8 | V9 | V10 | V11 | V12 | V13 | V14 | V15 | V16 | V17 | V18 | V19 | V20 | \n",
       "|---|---|\n",
       "| 0.8281725   | 0.9908882   | 0.25234963  | 0.7501010   | 0.7577850   | 0.9257657   | 0.1094230   | 0.9866000   | 0.31304743  | 0.1229996   | 0.32831888  | 0.6859215   | 0.3925502   | 0.47296299  | 0.6134780   | 0.2398855   | 0.1301922   | 0.176041719 | 0.7262256   | 0.1794496   | \n",
       "| 0.6554379   | 0.6502601   | 0.04260713  | 0.9330487   | 0.7506476   | 0.2390588   | 0.1474123   | 0.1469469   | 0.03453798  | 0.5179528   | 0.05019006  | 0.2700197   | 0.5642389   | 0.08337442  | 0.6081188   | 0.5881740   | 0.1895514   | 0.005803361 | 0.4767738   | 0.8708143   | \n",
       "\n",
       "\n"
      ],
      "text/plain": [
       "  V1        V2        V3         V4        V5        V6        V7       \n",
       "1 0.8281725 0.9908882 0.25234963 0.7501010 0.7577850 0.9257657 0.1094230\n",
       "2 0.6554379 0.6502601 0.04260713 0.9330487 0.7506476 0.2390588 0.1474123\n",
       "  V8        V9         V10       V11        V12       V13       V14       \n",
       "1 0.9866000 0.31304743 0.1229996 0.32831888 0.6859215 0.3925502 0.47296299\n",
       "2 0.1469469 0.03453798 0.5179528 0.05019006 0.2700197 0.5642389 0.08337442\n",
       "  V15       V16       V17       V18         V19       V20      \n",
       "1 0.6134780 0.2398855 0.1301922 0.176041719 0.7262256 0.1794496\n",
       "2 0.6081188 0.5881740 0.1895514 0.005803361 0.4767738 0.8708143"
      ]
     },
     "metadata": {},
     "output_type": "display_data"
    }
   ],
   "source": [
    "df1 <- as.data.frame(matrix(runif(20*2), ncol=20) )\n",
    "head(df1)"
   ]
  },
  {
   "cell_type": "markdown",
   "metadata": {},
   "source": [
    "_df1_ is a wide dataframe. The goal of the assignment is to change _df1_ into a long dataframe _df2_. And show the first rows of the dataframe using `head(df2)`\n",
    "\n",
    "The dataframe _df2_ should look like this:\n",
    "\n",
    "| Key | Value      |\n",
    "|-----|------------|\n",
    "| V1  | 0.09413864 |\n",
    "| V1  | 0.69782526 |\n",
    "| V2  | 0.23460454 |\n",
    "| V2  | 0.51520514 |\n",
    "| V3  | 0.63181844 |\n",
    "| V3  | 0.22807211 |"
   ]
  },
  {
   "cell_type": "code",
   "execution_count": 93,
   "metadata": {},
   "outputs": [
    {
     "data": {
      "text/html": [
       "<table>\n",
       "<thead><tr><th scope=col>Key</th><th scope=col>Value</th></tr></thead>\n",
       "<tbody>\n",
       "\t<tr><td>V1        </td><td>0.82817254</td></tr>\n",
       "\t<tr><td>V1        </td><td>0.65543788</td></tr>\n",
       "\t<tr><td>V2        </td><td>0.99088817</td></tr>\n",
       "\t<tr><td>V2        </td><td>0.65026007</td></tr>\n",
       "\t<tr><td>V3        </td><td>0.25234963</td></tr>\n",
       "\t<tr><td>V3        </td><td>0.04260713</td></tr>\n",
       "</tbody>\n",
       "</table>\n"
      ],
      "text/latex": [
       "\\begin{tabular}{r|ll}\n",
       " Key & Value\\\\\n",
       "\\hline\n",
       "\t V1         & 0.82817254\\\\\n",
       "\t V1         & 0.65543788\\\\\n",
       "\t V2         & 0.99088817\\\\\n",
       "\t V2         & 0.65026007\\\\\n",
       "\t V3         & 0.25234963\\\\\n",
       "\t V3         & 0.04260713\\\\\n",
       "\\end{tabular}\n"
      ],
      "text/markdown": [
       "\n",
       "Key | Value | \n",
       "|---|---|---|---|---|---|\n",
       "| V1         | 0.82817254 | \n",
       "| V1         | 0.65543788 | \n",
       "| V2         | 0.99088817 | \n",
       "| V2         | 0.65026007 | \n",
       "| V3         | 0.25234963 | \n",
       "| V3         | 0.04260713 | \n",
       "\n",
       "\n"
      ],
      "text/plain": [
       "  Key Value     \n",
       "1 V1  0.82817254\n",
       "2 V1  0.65543788\n",
       "3 V2  0.99088817\n",
       "4 V2  0.65026007\n",
       "5 V3  0.25234963\n",
       "6 V3  0.04260713"
      ]
     },
     "metadata": {},
     "output_type": "display_data"
    }
   ],
   "source": [
    "df2 <- df1 %>% gather(Key, Value, V1:V20)\n",
    "\n",
    "head(df2)\n",
    "\n"
   ]
  },
  {
   "cell_type": "markdown",
   "metadata": {},
   "source": [
    "## Assignment 2\n",
    "\n",
    "We will generate some data:"
   ]
  },
  {
   "cell_type": "code",
   "execution_count": 96,
   "metadata": {},
   "outputs": [
    {
     "data": {
      "text/html": [
       "<table>\n",
       "<thead><tr><th scope=col>id</th><th scope=col>V_1</th><th scope=col>V_2</th></tr></thead>\n",
       "<tbody>\n",
       "\t<tr><td>1        </td><td>42.46757 </td><td>-87.81005</td></tr>\n",
       "\t<tr><td>2        </td><td>42.04915 </td><td>-88.27303</td></tr>\n",
       "\t<tr><td>3        </td><td>39.11054 </td><td>-90.32408</td></tr>\n",
       "</tbody>\n",
       "</table>\n"
      ],
      "text/latex": [
       "\\begin{tabular}{r|lll}\n",
       " id & V\\_1 & V\\_2\\\\\n",
       "\\hline\n",
       "\t 1         & 42.46757  & -87.81005\\\\\n",
       "\t 2         & 42.04915  & -88.27303\\\\\n",
       "\t 3         & 39.11054  & -90.32408\\\\\n",
       "\\end{tabular}\n"
      ],
      "text/markdown": [
       "\n",
       "id | V_1 | V_2 | \n",
       "|---|---|---|\n",
       "| 1         | 42.46757  | -87.81005 | \n",
       "| 2         | 42.04915  | -88.27303 | \n",
       "| 3         | 39.11054  | -90.32408 | \n",
       "\n",
       "\n"
      ],
      "text/plain": [
       "  id V_1      V_2      \n",
       "1 1  42.46757 -87.81005\n",
       "2 2  42.04915 -88.27303\n",
       "3 3  39.11054 -90.32408"
      ]
     },
     "metadata": {},
     "output_type": "display_data"
    }
   ],
   "source": [
    "df3 <- as.data.frame(read.table(header=TRUE, text=\n",
    "        'id        V_1       V_2                \n",
    "          1  42.467573  -87.810047     \n",
    "          2  42.049148  -88.273029\n",
    "          3  39.110539  -90.324080'))\n",
    "\n",
    "\n",
    "\n",
    "head(df3)"
   ]
  },
  {
   "cell_type": "code",
   "execution_count": 97,
   "metadata": {},
   "outputs": [
    {
     "data": {
      "text/html": [
       "<table>\n",
       "<thead><tr><th scope=col>V_3</th><th scope=col>V_4</th><th scope=col>id</th></tr></thead>\n",
       "<tbody>\n",
       "\t<tr><td>one  </td><td>1h   </td><td>1    </td></tr>\n",
       "\t<tr><td>two  </td><td>1h   </td><td>1    </td></tr>\n",
       "\t<tr><td>three</td><td>8h   </td><td>2    </td></tr>\n",
       "\t<tr><td>four </td><td>1h   </td><td>4    </td></tr>\n",
       "</tbody>\n",
       "</table>\n"
      ],
      "text/latex": [
       "\\begin{tabular}{r|lll}\n",
       " V\\_3 & V\\_4 & id\\\\\n",
       "\\hline\n",
       "\t one   & 1h    & 1    \\\\\n",
       "\t two   & 1h    & 1    \\\\\n",
       "\t three & 8h    & 2    \\\\\n",
       "\t four  & 1h    & 4    \\\\\n",
       "\\end{tabular}\n"
      ],
      "text/markdown": [
       "\n",
       "V_3 | V_4 | id | \n",
       "|---|---|---|---|\n",
       "| one   | 1h    | 1     | \n",
       "| two   | 1h    | 1     | \n",
       "| three | 8h    | 2     | \n",
       "| four  | 1h    | 4     | \n",
       "\n",
       "\n"
      ],
      "text/plain": [
       "  V_3   V_4 id\n",
       "1 one   1h  1 \n",
       "2 two   1h  1 \n",
       "3 three 8h  2 \n",
       "4 four  1h  4 "
      ]
     },
     "metadata": {},
     "output_type": "display_data"
    }
   ],
   "source": [
    "df4 <- as.data.frame(read.table(header=TRUE, text='\n",
    "     V_3            V_4         id                 \n",
    "      one         1h            1\n",
    "      two         1h            1\n",
    "      three       8h            2\n",
    "      four        1h            4'))\n",
    "\n",
    "head(df4)"
   ]
  },
  {
   "cell_type": "markdown",
   "metadata": {},
   "source": [
    "\n",
    "You will have to merge these files, returning all rows and all columns from both _df3_ and _df5_. Where there are not matching values, return _NA_ for the missings. \n",
    "\n",
    "This should be the end result:\n",
    "\n",
    "| id | V_1      | V_2       | V_3   | V_4 |\n",
    "|----|----------|-----------|-------|-----|\n",
    "| 1  | 42.46757 | -87.81005 | one   | 1h  |\n",
    "| 1  | 42.46757 | -87.81005 | two   | 1h  |\n",
    "| 2  | 42.04915 | -88.27303 | three | 8h  |\n",
    "| 3  | 39.11054 | -90.32408 | NA    | NA  |\n",
    "| 4  | NA       | NA        | four  | 1h  |\n",
    "\n"
   ]
  },
  {
   "cell_type": "code",
   "execution_count": 103,
   "metadata": {},
   "outputs": [
    {
     "ename": "ERROR",
     "evalue": "Error in rbind(df3, df5): object 'df5' not found\n",
     "output_type": "error",
     "traceback": [
      "Error in rbind(df3, df5): object 'df5' not found\nTraceback:\n",
      "1. rbind(df3, df5)"
     ]
    }
   ],
   "source": [
    "df5 <- rbind(df3, df5)\n",
    "\n",
    "dfComb[1:4, ]\n",
    "\n",
    "\n",
    "df5"
   ]
  },
  {
   "cell_type": "markdown",
   "metadata": {},
   "source": [
    "End of notebook"
   ]
  }
 ],
 "metadata": {
  "anaconda-cloud": {},
  "kernelspec": {
   "display_name": "R",
   "language": "R",
   "name": "ir"
  },
  "language_info": {
   "codemirror_mode": "r",
   "file_extension": ".r",
   "mimetype": "text/x-r-source",
   "name": "R",
   "pygments_lexer": "r",
   "version": "3.4.2"
  }
 },
 "nbformat": 4,
 "nbformat_minor": 1
}
